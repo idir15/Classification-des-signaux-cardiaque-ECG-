{
  "cells": [
    {
      "cell_type": "markdown",
      "metadata": {
        "id": "view-in-github",
        "colab_type": "text"
      },
      "source": [
        "<a href=\"https://colab.research.google.com/github/idir15/Classification-des-signaux-cardiaque-ECG-/blob/master/premierteste.ipynb\" target=\"_parent\"><img src=\"https://colab.research.google.com/assets/colab-badge.svg\" alt=\"Open In Colab\"/></a>"
      ]
    },
    {
      "cell_type": "code",
      "execution_count": null,
      "metadata": {
        "id": "xNybg2hzaq6K"
      },
      "outputs": [],
      "source": [
        "import keras\n",
        "from tensorflow.keras import layers\n",
        "import numpy as np\n",
        "import pandas as pd\n",
        "from sklearn.model_selection import train_test_split\n",
        "from sklearn.metrics import confusion_matrix\n",
        "import matplotlib.pyplot as plt\n",
        "\n",
        "\n",
        "#charger les fichiers normal et abnormal dans une liste \n",
        "datalist = [pd.read_csv(''+x+'.csv') for x in ['normal', 'abnormal' ]]\n",
        "# indexer l'axe des x de 0 a 187\n",
        "for x in datalist :\n",
        "    x.columns = list(range(len(x.columns)))\n",
        "\n",
        "\n",
        "\n"
      ]
    },
    {
      "cell_type": "code",
      "source": [
        "#concaténation et melange des données \n",
        "data = pd.concat(datalist, axis=0).sample(frac=1.0, random_state=1).reset_index(drop=True)\n",
        "data = data.rename({187: 'label'}, axis=1)\n",
        "\n",
        "#Generation des données et des labels\n",
        "label = data['label'].copy()\n",
        "Data = data.drop('label', axis=1)\n",
        "\n",
        "#Generation des données et des label d'entrainnement et de test\n",
        "data_train, data_test, label_train, label_test = train_test_split(\n",
        "    Data, label, test_size=0.3, random_state=1)\n"
      ],
      "metadata": {
        "id": "t0Dbwq3YVCnX"
      },
      "execution_count": null,
      "outputs": []
    },
    {
      "cell_type": "code",
      "source": [
        "#declaration de la forme des entrées\n",
        "inputs = keras.Input(shape=(187,))\n",
        "#declaration des couches cachees\n",
        "dense = layers.Dense(64, activation=\"relu\")\n",
        "x = dense(inputs)\n",
        "x = layers.Dense(64, activation=\"relu\")(x)\n",
        "outputs = layers.Dense(1, activation=\"sigmoid\")(x)\n",
        "#creation du modele\n",
        "model = keras.Model(inputs=inputs, outputs=outputs, name=\"test_model\")"
      ],
      "metadata": {
        "id": "wtWDsNZcU9LO"
      },
      "execution_count": null,
      "outputs": []
    },
    {
      "cell_type": "markdown",
      "source": [
        "Affichage des signaux"
      ],
      "metadata": {
        "id": "9Y9ozHNAX6GX"
      }
    },
    {
      "cell_type": "code",
      "source": [
        "te=1/125\n",
        "t=np.linspace(0,len(Data.iloc[0])*te,len(Data.iloc[0]))\n",
        "fig, axs=plt.subplots()\n",
        "axs.plot(t,Data.iloc[5])\n",
        "plt.xlabel('temps en sec')\n",
        "plt.ylabel('amplitude')"
      ],
      "metadata": {
        "colab": {
          "base_uri": "https://localhost:8080/",
          "height": 235
        },
        "id": "I9Hgl1SnX5we",
        "outputId": "3266668b-77d0-4e5c-8d35-0d94121708cf"
      },
      "execution_count": null,
      "outputs": [
        {
          "output_type": "error",
          "ename": "NameError",
          "evalue": "ignored",
          "traceback": [
            "\u001b[0;31m---------------------------------------------------------------------------\u001b[0m",
            "\u001b[0;31mNameError\u001b[0m                                 Traceback (most recent call last)",
            "\u001b[0;32m<ipython-input-1-d5aa324f111e>\u001b[0m in \u001b[0;36m<cell line: 2>\u001b[0;34m()\u001b[0m\n\u001b[1;32m      1\u001b[0m \u001b[0mte\u001b[0m\u001b[0;34m=\u001b[0m\u001b[0;36m1\u001b[0m\u001b[0;34m/\u001b[0m\u001b[0;36m125\u001b[0m\u001b[0;34m\u001b[0m\u001b[0;34m\u001b[0m\u001b[0m\n\u001b[0;32m----> 2\u001b[0;31m \u001b[0mt\u001b[0m\u001b[0;34m=\u001b[0m\u001b[0mnp\u001b[0m\u001b[0;34m.\u001b[0m\u001b[0mlinspace\u001b[0m\u001b[0;34m(\u001b[0m\u001b[0;36m0\u001b[0m\u001b[0;34m,\u001b[0m\u001b[0mlen\u001b[0m\u001b[0;34m(\u001b[0m\u001b[0mData\u001b[0m\u001b[0;34m.\u001b[0m\u001b[0miloc\u001b[0m\u001b[0;34m[\u001b[0m\u001b[0;36m0\u001b[0m\u001b[0;34m]\u001b[0m\u001b[0;34m)\u001b[0m\u001b[0;34m*\u001b[0m\u001b[0mte\u001b[0m\u001b[0;34m,\u001b[0m\u001b[0mlen\u001b[0m\u001b[0;34m(\u001b[0m\u001b[0mData\u001b[0m\u001b[0;34m.\u001b[0m\u001b[0miloc\u001b[0m\u001b[0;34m[\u001b[0m\u001b[0;36m0\u001b[0m\u001b[0;34m]\u001b[0m\u001b[0;34m)\u001b[0m\u001b[0;34m)\u001b[0m\u001b[0;34m\u001b[0m\u001b[0;34m\u001b[0m\u001b[0m\n\u001b[0m\u001b[1;32m      3\u001b[0m \u001b[0mfig\u001b[0m\u001b[0;34m,\u001b[0m \u001b[0maxs\u001b[0m\u001b[0;34m=\u001b[0m\u001b[0mplt\u001b[0m\u001b[0;34m.\u001b[0m\u001b[0msubplots\u001b[0m\u001b[0;34m(\u001b[0m\u001b[0;34m)\u001b[0m\u001b[0;34m\u001b[0m\u001b[0;34m\u001b[0m\u001b[0m\n\u001b[1;32m      4\u001b[0m \u001b[0maxs\u001b[0m\u001b[0;34m.\u001b[0m\u001b[0mplot\u001b[0m\u001b[0;34m(\u001b[0m\u001b[0mt\u001b[0m\u001b[0;34m,\u001b[0m\u001b[0mData\u001b[0m\u001b[0;34m.\u001b[0m\u001b[0miloc\u001b[0m\u001b[0;34m[\u001b[0m\u001b[0;36m5\u001b[0m\u001b[0;34m]\u001b[0m\u001b[0;34m)\u001b[0m\u001b[0;34m\u001b[0m\u001b[0;34m\u001b[0m\u001b[0m\n\u001b[1;32m      5\u001b[0m \u001b[0mplt\u001b[0m\u001b[0;34m.\u001b[0m\u001b[0mxlabel\u001b[0m\u001b[0;34m(\u001b[0m\u001b[0;34m'temps en sec'\u001b[0m\u001b[0;34m)\u001b[0m\u001b[0;34m\u001b[0m\u001b[0;34m\u001b[0m\u001b[0m\n",
            "\u001b[0;31mNameError\u001b[0m: name 'np' is not defined"
          ]
        }
      ]
    },
    {
      "cell_type": "markdown",
      "metadata": {
        "id": "Ui8IQ3PZeBYZ"
      },
      "source": [
        "compilation du RN\n"
      ]
    },
    {
      "cell_type": "code",
      "execution_count": null,
      "metadata": {
        "colab": {
          "base_uri": "https://localhost:8080/"
        },
        "id": "n35YkSBRbkCB",
        "outputId": "51312b1c-f649-45c7-ebb2-d387de6cd255"
      },
      "outputs": [
        {
          "output_type": "stream",
          "name": "stdout",
          "text": [
            "Epoch 1/250\n",
            "255/255 [==============================] - 5s 5ms/step - loss: 0.6211 - accuracy: 0.7212 - auc: 0.6037 - val_loss: 0.5948 - val_accuracy: 0.7374 - val_auc: 0.6327\n",
            "Epoch 2/250\n",
            "255/255 [==============================] - 1s 4ms/step - loss: 0.5874 - accuracy: 0.7214 - auc: 0.6394 - val_loss: 0.5648 - val_accuracy: 0.7374 - val_auc: 0.6566\n",
            "Epoch 3/250\n",
            "255/255 [==============================] - 1s 4ms/step - loss: 0.5651 - accuracy: 0.7215 - auc: 0.6694 - val_loss: 0.5458 - val_accuracy: 0.7374 - val_auc: 0.6786\n",
            "Epoch 4/250\n",
            "255/255 [==============================] - 1s 4ms/step - loss: 0.5500 - accuracy: 0.7215 - auc: 0.6927 - val_loss: 0.5324 - val_accuracy: 0.7374 - val_auc: 0.7020\n",
            "Epoch 5/250\n",
            "255/255 [==============================] - 1s 4ms/step - loss: 0.5382 - accuracy: 0.7219 - auc: 0.7199 - val_loss: 0.5217 - val_accuracy: 0.7388 - val_auc: 0.7240\n",
            "Epoch 6/250\n",
            "255/255 [==============================] - 1s 4ms/step - loss: 0.5279 - accuracy: 0.7234 - auc: 0.7415 - val_loss: 0.5126 - val_accuracy: 0.7403 - val_auc: 0.7434\n",
            "Epoch 7/250\n",
            "255/255 [==============================] - 1s 4ms/step - loss: 0.5191 - accuracy: 0.7259 - auc: 0.7581 - val_loss: 0.5048 - val_accuracy: 0.7437 - val_auc: 0.7582\n",
            "Epoch 8/250\n",
            "255/255 [==============================] - 1s 5ms/step - loss: 0.5112 - accuracy: 0.7280 - auc: 0.7711 - val_loss: 0.4977 - val_accuracy: 0.7472 - val_auc: 0.7697\n",
            "Epoch 9/250\n",
            "255/255 [==============================] - 1s 6ms/step - loss: 0.5040 - accuracy: 0.7321 - auc: 0.7822 - val_loss: 0.4909 - val_accuracy: 0.7491 - val_auc: 0.7781\n",
            "Epoch 10/250\n",
            "255/255 [==============================] - 1s 4ms/step - loss: 0.4976 - accuracy: 0.7367 - auc: 0.7885 - val_loss: 0.4851 - val_accuracy: 0.7545 - val_auc: 0.7862\n",
            "Epoch 11/250\n",
            "255/255 [==============================] - 1s 4ms/step - loss: 0.4916 - accuracy: 0.7428 - auc: 0.7957 - val_loss: 0.4796 - val_accuracy: 0.7595 - val_auc: 0.7926\n",
            "Epoch 12/250\n",
            "255/255 [==============================] - 1s 5ms/step - loss: 0.4862 - accuracy: 0.7506 - auc: 0.8019 - val_loss: 0.4746 - val_accuracy: 0.7658 - val_auc: 0.7985\n",
            "Epoch 13/250\n",
            "255/255 [==============================] - 1s 5ms/step - loss: 0.4811 - accuracy: 0.7574 - auc: 0.8069 - val_loss: 0.4699 - val_accuracy: 0.7742 - val_auc: 0.8035\n",
            "Epoch 14/250\n",
            "255/255 [==============================] - 1s 5ms/step - loss: 0.4762 - accuracy: 0.7656 - auc: 0.8115 - val_loss: 0.4654 - val_accuracy: 0.7791 - val_auc: 0.8081\n",
            "Epoch 15/250\n",
            "255/255 [==============================] - 1s 4ms/step - loss: 0.4715 - accuracy: 0.7693 - auc: 0.8161 - val_loss: 0.4611 - val_accuracy: 0.7825 - val_auc: 0.8130\n",
            "Epoch 16/250\n",
            "255/255 [==============================] - 1s 4ms/step - loss: 0.4672 - accuracy: 0.7733 - auc: 0.8195 - val_loss: 0.4572 - val_accuracy: 0.7855 - val_auc: 0.8174\n",
            "Epoch 17/250\n",
            "255/255 [==============================] - 1s 4ms/step - loss: 0.4630 - accuracy: 0.7764 - auc: 0.8235 - val_loss: 0.4534 - val_accuracy: 0.7914 - val_auc: 0.8218\n",
            "Epoch 18/250\n",
            "255/255 [==============================] - 1s 5ms/step - loss: 0.4591 - accuracy: 0.7771 - auc: 0.8268 - val_loss: 0.4496 - val_accuracy: 0.7943 - val_auc: 0.8249\n",
            "Epoch 19/250\n",
            "255/255 [==============================] - 1s 6ms/step - loss: 0.4552 - accuracy: 0.7796 - auc: 0.8304 - val_loss: 0.4458 - val_accuracy: 0.7928 - val_auc: 0.8280\n",
            "Epoch 20/250\n",
            "255/255 [==============================] - 1s 5ms/step - loss: 0.4516 - accuracy: 0.7830 - auc: 0.8333 - val_loss: 0.4424 - val_accuracy: 0.7968 - val_auc: 0.8306\n",
            "Epoch 21/250\n",
            "255/255 [==============================] - 1s 4ms/step - loss: 0.4481 - accuracy: 0.7835 - auc: 0.8363 - val_loss: 0.4392 - val_accuracy: 0.7982 - val_auc: 0.8343\n",
            "Epoch 22/250\n",
            "255/255 [==============================] - 1s 4ms/step - loss: 0.4449 - accuracy: 0.7883 - auc: 0.8392 - val_loss: 0.4361 - val_accuracy: 0.7997 - val_auc: 0.8369\n",
            "Epoch 23/250\n",
            "255/255 [==============================] - 1s 4ms/step - loss: 0.4417 - accuracy: 0.7910 - auc: 0.8415 - val_loss: 0.4332 - val_accuracy: 0.8017 - val_auc: 0.8392\n",
            "Epoch 24/250\n",
            "255/255 [==============================] - 1s 4ms/step - loss: 0.4387 - accuracy: 0.7916 - auc: 0.8440 - val_loss: 0.4305 - val_accuracy: 0.8061 - val_auc: 0.8421\n",
            "Epoch 25/250\n",
            "255/255 [==============================] - 1s 4ms/step - loss: 0.4358 - accuracy: 0.7950 - auc: 0.8465 - val_loss: 0.4277 - val_accuracy: 0.8066 - val_auc: 0.8444\n",
            "Epoch 26/250\n",
            "255/255 [==============================] - 1s 4ms/step - loss: 0.4330 - accuracy: 0.7964 - auc: 0.8483 - val_loss: 0.4252 - val_accuracy: 0.8076 - val_auc: 0.8469\n",
            "Epoch 27/250\n",
            "255/255 [==============================] - 1s 4ms/step - loss: 0.4303 - accuracy: 0.7973 - auc: 0.8508 - val_loss: 0.4226 - val_accuracy: 0.8081 - val_auc: 0.8488\n",
            "Epoch 28/250\n",
            "255/255 [==============================] - 1s 4ms/step - loss: 0.4278 - accuracy: 0.7979 - auc: 0.8526 - val_loss: 0.4202 - val_accuracy: 0.8090 - val_auc: 0.8511\n",
            "Epoch 29/250\n",
            "255/255 [==============================] - 1s 4ms/step - loss: 0.4253 - accuracy: 0.8002 - auc: 0.8545 - val_loss: 0.4180 - val_accuracy: 0.8120 - val_auc: 0.8531\n",
            "Epoch 30/250\n",
            "255/255 [==============================] - 1s 5ms/step - loss: 0.4229 - accuracy: 0.8018 - auc: 0.8565 - val_loss: 0.4156 - val_accuracy: 0.8110 - val_auc: 0.8544\n",
            "Epoch 31/250\n",
            "255/255 [==============================] - 1s 5ms/step - loss: 0.4207 - accuracy: 0.8034 - auc: 0.8580 - val_loss: 0.4134 - val_accuracy: 0.8120 - val_auc: 0.8561\n",
            "Epoch 32/250\n",
            "255/255 [==============================] - 1s 4ms/step - loss: 0.4184 - accuracy: 0.8046 - auc: 0.8596 - val_loss: 0.4115 - val_accuracy: 0.8120 - val_auc: 0.8580\n",
            "Epoch 33/250\n",
            "255/255 [==============================] - 1s 4ms/step - loss: 0.4164 - accuracy: 0.8050 - auc: 0.8612 - val_loss: 0.4094 - val_accuracy: 0.8120 - val_auc: 0.8595\n",
            "Epoch 34/250\n",
            "255/255 [==============================] - 1s 4ms/step - loss: 0.4144 - accuracy: 0.8058 - auc: 0.8627 - val_loss: 0.4076 - val_accuracy: 0.8120 - val_auc: 0.8613\n",
            "Epoch 35/250\n",
            "255/255 [==============================] - 1s 4ms/step - loss: 0.4124 - accuracy: 0.8072 - auc: 0.8641 - val_loss: 0.4057 - val_accuracy: 0.8135 - val_auc: 0.8625\n",
            "Epoch 36/250\n",
            "255/255 [==============================] - 1s 4ms/step - loss: 0.4104 - accuracy: 0.8067 - auc: 0.8655 - val_loss: 0.4038 - val_accuracy: 0.8139 - val_auc: 0.8642\n",
            "Epoch 37/250\n",
            "255/255 [==============================] - 1s 4ms/step - loss: 0.4086 - accuracy: 0.8078 - auc: 0.8667 - val_loss: 0.4021 - val_accuracy: 0.8159 - val_auc: 0.8656\n",
            "Epoch 38/250\n",
            "255/255 [==============================] - 1s 4ms/step - loss: 0.4068 - accuracy: 0.8079 - auc: 0.8680 - val_loss: 0.4003 - val_accuracy: 0.8174 - val_auc: 0.8669\n",
            "Epoch 39/250\n",
            "255/255 [==============================] - 1s 4ms/step - loss: 0.4050 - accuracy: 0.8087 - auc: 0.8693 - val_loss: 0.3986 - val_accuracy: 0.8164 - val_auc: 0.8680\n",
            "Epoch 40/250\n",
            "255/255 [==============================] - 1s 4ms/step - loss: 0.4032 - accuracy: 0.8100 - auc: 0.8704 - val_loss: 0.3970 - val_accuracy: 0.8164 - val_auc: 0.8694\n",
            "Epoch 41/250\n",
            "255/255 [==============================] - 1s 5ms/step - loss: 0.4016 - accuracy: 0.8116 - auc: 0.8715 - val_loss: 0.3954 - val_accuracy: 0.8159 - val_auc: 0.8705\n",
            "Epoch 42/250\n",
            "255/255 [==============================] - 1s 6ms/step - loss: 0.4000 - accuracy: 0.8115 - auc: 0.8728 - val_loss: 0.3940 - val_accuracy: 0.8154 - val_auc: 0.8719\n",
            "Epoch 43/250\n",
            "255/255 [==============================] - 1s 4ms/step - loss: 0.3984 - accuracy: 0.8121 - auc: 0.8737 - val_loss: 0.3924 - val_accuracy: 0.8149 - val_auc: 0.8728\n",
            "Epoch 44/250\n",
            "255/255 [==============================] - 1s 4ms/step - loss: 0.3969 - accuracy: 0.8122 - auc: 0.8748 - val_loss: 0.3910 - val_accuracy: 0.8154 - val_auc: 0.8739\n",
            "Epoch 45/250\n",
            "255/255 [==============================] - 1s 4ms/step - loss: 0.3952 - accuracy: 0.8138 - auc: 0.8761 - val_loss: 0.3896 - val_accuracy: 0.8159 - val_auc: 0.8746\n",
            "Epoch 46/250\n",
            "255/255 [==============================] - 1s 4ms/step - loss: 0.3939 - accuracy: 0.8139 - auc: 0.8767 - val_loss: 0.3882 - val_accuracy: 0.8169 - val_auc: 0.8759\n",
            "Epoch 47/250\n",
            "255/255 [==============================] - 1s 5ms/step - loss: 0.3925 - accuracy: 0.8155 - auc: 0.8777 - val_loss: 0.3869 - val_accuracy: 0.8179 - val_auc: 0.8770\n",
            "Epoch 48/250\n",
            "255/255 [==============================] - 1s 4ms/step - loss: 0.3911 - accuracy: 0.8164 - auc: 0.8787 - val_loss: 0.3856 - val_accuracy: 0.8189 - val_auc: 0.8779\n",
            "Epoch 49/250\n",
            "255/255 [==============================] - 1s 4ms/step - loss: 0.3898 - accuracy: 0.8160 - auc: 0.8795 - val_loss: 0.3844 - val_accuracy: 0.8184 - val_auc: 0.8788\n",
            "Epoch 50/250\n",
            "255/255 [==============================] - 1s 4ms/step - loss: 0.3884 - accuracy: 0.8182 - auc: 0.8805 - val_loss: 0.3832 - val_accuracy: 0.8203 - val_auc: 0.8797\n",
            "Epoch 51/250\n",
            "255/255 [==============================] - 1s 4ms/step - loss: 0.3872 - accuracy: 0.8193 - auc: 0.8813 - val_loss: 0.3821 - val_accuracy: 0.8218 - val_auc: 0.8806\n",
            "Epoch 52/250\n",
            "255/255 [==============================] - 1s 5ms/step - loss: 0.3859 - accuracy: 0.8200 - auc: 0.8822 - val_loss: 0.3809 - val_accuracy: 0.8223 - val_auc: 0.8814\n",
            "Epoch 53/250\n",
            "255/255 [==============================] - 1s 5ms/step - loss: 0.3847 - accuracy: 0.8197 - auc: 0.8831 - val_loss: 0.3798 - val_accuracy: 0.8218 - val_auc: 0.8822\n",
            "Epoch 54/250\n",
            "255/255 [==============================] - 1s 4ms/step - loss: 0.3835 - accuracy: 0.8207 - auc: 0.8838 - val_loss: 0.3789 - val_accuracy: 0.8252 - val_auc: 0.8830\n",
            "Epoch 55/250\n",
            "255/255 [==============================] - 1s 4ms/step - loss: 0.3824 - accuracy: 0.8211 - auc: 0.8846 - val_loss: 0.3777 - val_accuracy: 0.8218 - val_auc: 0.8837\n",
            "Epoch 56/250\n",
            "255/255 [==============================] - 1s 4ms/step - loss: 0.3813 - accuracy: 0.8222 - auc: 0.8853 - val_loss: 0.3767 - val_accuracy: 0.8238 - val_auc: 0.8844\n",
            "Epoch 57/250\n",
            "255/255 [==============================] - 1s 4ms/step - loss: 0.3801 - accuracy: 0.8225 - auc: 0.8859 - val_loss: 0.3757 - val_accuracy: 0.8243 - val_auc: 0.8850\n",
            "Epoch 58/250\n",
            "255/255 [==============================] - 1s 4ms/step - loss: 0.3790 - accuracy: 0.8227 - auc: 0.8868 - val_loss: 0.3749 - val_accuracy: 0.8233 - val_auc: 0.8855\n",
            "Epoch 59/250\n",
            "255/255 [==============================] - 1s 4ms/step - loss: 0.3781 - accuracy: 0.8234 - auc: 0.8872 - val_loss: 0.3739 - val_accuracy: 0.8252 - val_auc: 0.8863\n",
            "Epoch 60/250\n",
            "255/255 [==============================] - 1s 4ms/step - loss: 0.3770 - accuracy: 0.8238 - auc: 0.8880 - val_loss: 0.3729 - val_accuracy: 0.8252 - val_auc: 0.8869\n",
            "Epoch 61/250\n",
            "255/255 [==============================] - 1s 4ms/step - loss: 0.3760 - accuracy: 0.8251 - auc: 0.8885 - val_loss: 0.3721 - val_accuracy: 0.8262 - val_auc: 0.8873\n",
            "Epoch 62/250\n",
            "255/255 [==============================] - 1s 4ms/step - loss: 0.3751 - accuracy: 0.8258 - auc: 0.8893 - val_loss: 0.3713 - val_accuracy: 0.8262 - val_auc: 0.8878\n",
            "Epoch 63/250\n",
            "255/255 [==============================] - 1s 5ms/step - loss: 0.3740 - accuracy: 0.8252 - auc: 0.8898 - val_loss: 0.3704 - val_accuracy: 0.8262 - val_auc: 0.8884\n",
            "Epoch 64/250\n",
            "255/255 [==============================] - 1s 5ms/step - loss: 0.3731 - accuracy: 0.8255 - auc: 0.8904 - val_loss: 0.3695 - val_accuracy: 0.8282 - val_auc: 0.8890\n",
            "Epoch 65/250\n",
            "255/255 [==============================] - 1s 5ms/step - loss: 0.3722 - accuracy: 0.8267 - auc: 0.8909 - val_loss: 0.3688 - val_accuracy: 0.8277 - val_auc: 0.8894\n",
            "Epoch 66/250\n",
            "255/255 [==============================] - 1s 4ms/step - loss: 0.3713 - accuracy: 0.8270 - auc: 0.8915 - val_loss: 0.3679 - val_accuracy: 0.8292 - val_auc: 0.8900\n",
            "Epoch 67/250\n",
            "255/255 [==============================] - 1s 4ms/step - loss: 0.3704 - accuracy: 0.8295 - auc: 0.8919 - val_loss: 0.3672 - val_accuracy: 0.8287 - val_auc: 0.8905\n",
            "Epoch 68/250\n",
            "255/255 [==============================] - 1s 4ms/step - loss: 0.3695 - accuracy: 0.8290 - auc: 0.8927 - val_loss: 0.3664 - val_accuracy: 0.8287 - val_auc: 0.8909\n",
            "Epoch 69/250\n",
            "255/255 [==============================] - 1s 4ms/step - loss: 0.3687 - accuracy: 0.8290 - auc: 0.8931 - val_loss: 0.3657 - val_accuracy: 0.8306 - val_auc: 0.8915\n",
            "Epoch 70/250\n",
            "255/255 [==============================] - 1s 4ms/step - loss: 0.3679 - accuracy: 0.8310 - auc: 0.8936 - val_loss: 0.3649 - val_accuracy: 0.8297 - val_auc: 0.8920\n",
            "Epoch 71/250\n",
            "255/255 [==============================] - 1s 4ms/step - loss: 0.3670 - accuracy: 0.8312 - auc: 0.8941 - val_loss: 0.3643 - val_accuracy: 0.8297 - val_auc: 0.8922\n",
            "Epoch 72/250\n",
            "255/255 [==============================] - 1s 4ms/step - loss: 0.3662 - accuracy: 0.8320 - auc: 0.8946 - val_loss: 0.3635 - val_accuracy: 0.8292 - val_auc: 0.8928\n",
            "Epoch 73/250\n",
            "255/255 [==============================] - 1s 4ms/step - loss: 0.3654 - accuracy: 0.8326 - auc: 0.8951 - val_loss: 0.3628 - val_accuracy: 0.8306 - val_auc: 0.8931\n",
            "Epoch 74/250\n",
            "255/255 [==============================] - 1s 4ms/step - loss: 0.3646 - accuracy: 0.8336 - auc: 0.8956 - val_loss: 0.3622 - val_accuracy: 0.8326 - val_auc: 0.8937\n",
            "Epoch 75/250\n",
            "255/255 [==============================] - 1s 6ms/step - loss: 0.3638 - accuracy: 0.8335 - auc: 0.8961 - val_loss: 0.3614 - val_accuracy: 0.8316 - val_auc: 0.8940\n",
            "Epoch 76/250\n",
            "255/255 [==============================] - 1s 5ms/step - loss: 0.3631 - accuracy: 0.8349 - auc: 0.8965 - val_loss: 0.3607 - val_accuracy: 0.8321 - val_auc: 0.8945\n",
            "Epoch 77/250\n",
            "255/255 [==============================] - 1s 4ms/step - loss: 0.3623 - accuracy: 0.8359 - auc: 0.8970 - val_loss: 0.3600 - val_accuracy: 0.8336 - val_auc: 0.8950\n",
            "Epoch 78/250\n",
            "255/255 [==============================] - 1s 4ms/step - loss: 0.3616 - accuracy: 0.8358 - auc: 0.8974 - val_loss: 0.3594 - val_accuracy: 0.8351 - val_auc: 0.8954\n",
            "Epoch 79/250\n",
            "255/255 [==============================] - 1s 4ms/step - loss: 0.3608 - accuracy: 0.8365 - auc: 0.8980 - val_loss: 0.3588 - val_accuracy: 0.8321 - val_auc: 0.8956\n",
            "Epoch 80/250\n",
            "255/255 [==============================] - 1s 5ms/step - loss: 0.3601 - accuracy: 0.8373 - auc: 0.8983 - val_loss: 0.3581 - val_accuracy: 0.8336 - val_auc: 0.8961\n",
            "Epoch 81/250\n",
            "255/255 [==============================] - 1s 4ms/step - loss: 0.3594 - accuracy: 0.8379 - auc: 0.8989 - val_loss: 0.3575 - val_accuracy: 0.8331 - val_auc: 0.8966\n",
            "Epoch 82/250\n",
            "255/255 [==============================] - 1s 4ms/step - loss: 0.3586 - accuracy: 0.8384 - auc: 0.8993 - val_loss: 0.3569 - val_accuracy: 0.8336 - val_auc: 0.8968\n",
            "Epoch 83/250\n",
            "255/255 [==============================] - 1s 4ms/step - loss: 0.3579 - accuracy: 0.8382 - auc: 0.8998 - val_loss: 0.3563 - val_accuracy: 0.8355 - val_auc: 0.8972\n",
            "Epoch 84/250\n",
            "255/255 [==============================] - 1s 4ms/step - loss: 0.3573 - accuracy: 0.8386 - auc: 0.9002 - val_loss: 0.3557 - val_accuracy: 0.8355 - val_auc: 0.8977\n",
            "Epoch 85/250\n",
            "255/255 [==============================] - 1s 4ms/step - loss: 0.3565 - accuracy: 0.8391 - auc: 0.9007 - val_loss: 0.3552 - val_accuracy: 0.8370 - val_auc: 0.8981\n",
            "Epoch 86/250\n",
            "255/255 [==============================] - 2s 6ms/step - loss: 0.3559 - accuracy: 0.8395 - auc: 0.9012 - val_loss: 0.3546 - val_accuracy: 0.8360 - val_auc: 0.8983\n",
            "Epoch 87/250\n",
            "255/255 [==============================] - 1s 5ms/step - loss: 0.3552 - accuracy: 0.8395 - auc: 0.9015 - val_loss: 0.3540 - val_accuracy: 0.8390 - val_auc: 0.8988\n",
            "Epoch 88/250\n",
            "255/255 [==============================] - 1s 4ms/step - loss: 0.3546 - accuracy: 0.8395 - auc: 0.9018 - val_loss: 0.3535 - val_accuracy: 0.8365 - val_auc: 0.8990\n",
            "Epoch 89/250\n",
            "255/255 [==============================] - 1s 4ms/step - loss: 0.3538 - accuracy: 0.8409 - auc: 0.9023 - val_loss: 0.3529 - val_accuracy: 0.8405 - val_auc: 0.8994\n",
            "Epoch 90/250\n",
            "255/255 [==============================] - 1s 4ms/step - loss: 0.3533 - accuracy: 0.8411 - auc: 0.9028 - val_loss: 0.3523 - val_accuracy: 0.8400 - val_auc: 0.8997\n",
            "Epoch 91/250\n",
            "255/255 [==============================] - 1s 4ms/step - loss: 0.3526 - accuracy: 0.8416 - auc: 0.9031 - val_loss: 0.3518 - val_accuracy: 0.8400 - val_auc: 0.8999\n",
            "Epoch 92/250\n",
            "255/255 [==============================] - 1s 4ms/step - loss: 0.3520 - accuracy: 0.8422 - auc: 0.9035 - val_loss: 0.3512 - val_accuracy: 0.8400 - val_auc: 0.9003\n",
            "Epoch 93/250\n",
            "255/255 [==============================] - 1s 4ms/step - loss: 0.3513 - accuracy: 0.8417 - auc: 0.9039 - val_loss: 0.3507 - val_accuracy: 0.8395 - val_auc: 0.9008\n",
            "Epoch 94/250\n",
            "255/255 [==============================] - 1s 4ms/step - loss: 0.3507 - accuracy: 0.8427 - auc: 0.9043 - val_loss: 0.3502 - val_accuracy: 0.8409 - val_auc: 0.9011\n",
            "Epoch 95/250\n",
            "255/255 [==============================] - 1s 4ms/step - loss: 0.3501 - accuracy: 0.8429 - auc: 0.9046 - val_loss: 0.3500 - val_accuracy: 0.8390 - val_auc: 0.9012\n",
            "Epoch 96/250\n",
            "255/255 [==============================] - 1s 4ms/step - loss: 0.3495 - accuracy: 0.8434 - auc: 0.9050 - val_loss: 0.3492 - val_accuracy: 0.8414 - val_auc: 0.9016\n",
            "Epoch 97/250\n",
            "255/255 [==============================] - 2s 6ms/step - loss: 0.3488 - accuracy: 0.8427 - auc: 0.9054 - val_loss: 0.3487 - val_accuracy: 0.8414 - val_auc: 0.9020\n",
            "Epoch 98/250\n",
            "255/255 [==============================] - 1s 5ms/step - loss: 0.3482 - accuracy: 0.8440 - auc: 0.9058 - val_loss: 0.3481 - val_accuracy: 0.8405 - val_auc: 0.9023\n",
            "Epoch 99/250\n",
            "255/255 [==============================] - 1s 4ms/step - loss: 0.3476 - accuracy: 0.8438 - auc: 0.9062 - val_loss: 0.3476 - val_accuracy: 0.8405 - val_auc: 0.9026\n",
            "Epoch 100/250\n",
            "255/255 [==============================] - 1s 4ms/step - loss: 0.3470 - accuracy: 0.8438 - auc: 0.9065 - val_loss: 0.3472 - val_accuracy: 0.8414 - val_auc: 0.9029\n",
            "Epoch 101/250\n",
            "255/255 [==============================] - 1s 4ms/step - loss: 0.3463 - accuracy: 0.8428 - auc: 0.9071 - val_loss: 0.3467 - val_accuracy: 0.8419 - val_auc: 0.9031\n",
            "Epoch 102/250\n",
            "255/255 [==============================] - 1s 4ms/step - loss: 0.3457 - accuracy: 0.8452 - auc: 0.9074 - val_loss: 0.3461 - val_accuracy: 0.8400 - val_auc: 0.9035\n",
            "Epoch 103/250\n",
            "255/255 [==============================] - 1s 4ms/step - loss: 0.3451 - accuracy: 0.8454 - auc: 0.9077 - val_loss: 0.3456 - val_accuracy: 0.8409 - val_auc: 0.9038\n",
            "Epoch 104/250\n",
            "255/255 [==============================] - 1s 4ms/step - loss: 0.3445 - accuracy: 0.8455 - auc: 0.9081 - val_loss: 0.3451 - val_accuracy: 0.8405 - val_auc: 0.9042\n",
            "Epoch 105/250\n",
            "255/255 [==============================] - 1s 4ms/step - loss: 0.3440 - accuracy: 0.8468 - auc: 0.9085 - val_loss: 0.3447 - val_accuracy: 0.8434 - val_auc: 0.9045\n",
            "Epoch 106/250\n",
            "255/255 [==============================] - 1s 4ms/step - loss: 0.3434 - accuracy: 0.8462 - auc: 0.9088 - val_loss: 0.3441 - val_accuracy: 0.8429 - val_auc: 0.9048\n",
            "Epoch 107/250\n",
            "255/255 [==============================] - 1s 4ms/step - loss: 0.3427 - accuracy: 0.8457 - auc: 0.9092 - val_loss: 0.3437 - val_accuracy: 0.8434 - val_auc: 0.9052\n",
            "Epoch 108/250\n",
            "255/255 [==============================] - 1s 5ms/step - loss: 0.3422 - accuracy: 0.8470 - auc: 0.9095 - val_loss: 0.3432 - val_accuracy: 0.8434 - val_auc: 0.9054\n",
            "Epoch 109/250\n",
            "255/255 [==============================] - 1s 5ms/step - loss: 0.3417 - accuracy: 0.8481 - auc: 0.9098 - val_loss: 0.3427 - val_accuracy: 0.8439 - val_auc: 0.9059\n",
            "Epoch 110/250\n",
            "255/255 [==============================] - 1s 4ms/step - loss: 0.3411 - accuracy: 0.8478 - auc: 0.9101 - val_loss: 0.3423 - val_accuracy: 0.8444 - val_auc: 0.9061\n",
            "Epoch 111/250\n",
            "255/255 [==============================] - 1s 5ms/step - loss: 0.3405 - accuracy: 0.8481 - auc: 0.9106 - val_loss: 0.3417 - val_accuracy: 0.8439 - val_auc: 0.9064\n",
            "Epoch 112/250\n",
            "255/255 [==============================] - 1s 4ms/step - loss: 0.3399 - accuracy: 0.8487 - auc: 0.9109 - val_loss: 0.3413 - val_accuracy: 0.8424 - val_auc: 0.9067\n",
            "Epoch 113/250\n",
            "255/255 [==============================] - 1s 5ms/step - loss: 0.3393 - accuracy: 0.8494 - auc: 0.9114 - val_loss: 0.3408 - val_accuracy: 0.8434 - val_auc: 0.9069\n",
            "Epoch 114/250\n",
            "255/255 [==============================] - 1s 4ms/step - loss: 0.3387 - accuracy: 0.8501 - auc: 0.9116 - val_loss: 0.3403 - val_accuracy: 0.8459 - val_auc: 0.9074\n",
            "Epoch 115/250\n",
            "255/255 [==============================] - 1s 4ms/step - loss: 0.3382 - accuracy: 0.8508 - auc: 0.9119 - val_loss: 0.3399 - val_accuracy: 0.8444 - val_auc: 0.9075\n",
            "Epoch 116/250\n",
            "255/255 [==============================] - 1s 4ms/step - loss: 0.3377 - accuracy: 0.8505 - auc: 0.9122 - val_loss: 0.3394 - val_accuracy: 0.8444 - val_auc: 0.9076\n",
            "Epoch 117/250\n",
            "255/255 [==============================] - 1s 4ms/step - loss: 0.3371 - accuracy: 0.8504 - auc: 0.9126 - val_loss: 0.3389 - val_accuracy: 0.8459 - val_auc: 0.9079\n",
            "Epoch 118/250\n",
            "255/255 [==============================] - 1s 4ms/step - loss: 0.3365 - accuracy: 0.8499 - auc: 0.9129 - val_loss: 0.3385 - val_accuracy: 0.8459 - val_auc: 0.9082\n",
            "Epoch 119/250\n",
            "255/255 [==============================] - 2s 6ms/step - loss: 0.3359 - accuracy: 0.8521 - auc: 0.9133 - val_loss: 0.3380 - val_accuracy: 0.8473 - val_auc: 0.9085\n",
            "Epoch 120/250\n",
            "255/255 [==============================] - 1s 5ms/step - loss: 0.3355 - accuracy: 0.8513 - auc: 0.9136 - val_loss: 0.3377 - val_accuracy: 0.8463 - val_auc: 0.9088\n",
            "Epoch 121/250\n",
            "255/255 [==============================] - 1s 4ms/step - loss: 0.3349 - accuracy: 0.8526 - auc: 0.9139 - val_loss: 0.3372 - val_accuracy: 0.8468 - val_auc: 0.9091\n",
            "Epoch 122/250\n",
            "255/255 [==============================] - 1s 4ms/step - loss: 0.3344 - accuracy: 0.8524 - auc: 0.9142 - val_loss: 0.3368 - val_accuracy: 0.8473 - val_auc: 0.9094\n",
            "Epoch 123/250\n",
            "255/255 [==============================] - 1s 4ms/step - loss: 0.3338 - accuracy: 0.8543 - auc: 0.9147 - val_loss: 0.3362 - val_accuracy: 0.8463 - val_auc: 0.9098\n",
            "Epoch 124/250\n",
            "255/255 [==============================] - 1s 4ms/step - loss: 0.3333 - accuracy: 0.8521 - auc: 0.9148 - val_loss: 0.3358 - val_accuracy: 0.8498 - val_auc: 0.9100\n",
            "Epoch 125/250\n",
            "255/255 [==============================] - 1s 4ms/step - loss: 0.3327 - accuracy: 0.8538 - auc: 0.9153 - val_loss: 0.3357 - val_accuracy: 0.8463 - val_auc: 0.9102\n",
            "Epoch 126/250\n",
            "255/255 [==============================] - 1s 4ms/step - loss: 0.3321 - accuracy: 0.8546 - auc: 0.9156 - val_loss: 0.3349 - val_accuracy: 0.8493 - val_auc: 0.9106\n",
            "Epoch 127/250\n",
            "255/255 [==============================] - 1s 4ms/step - loss: 0.3316 - accuracy: 0.8546 - auc: 0.9158 - val_loss: 0.3344 - val_accuracy: 0.8493 - val_auc: 0.9111\n",
            "Epoch 128/250\n",
            "255/255 [==============================] - 1s 4ms/step - loss: 0.3310 - accuracy: 0.8557 - auc: 0.9163 - val_loss: 0.3341 - val_accuracy: 0.8463 - val_auc: 0.9113\n",
            "Epoch 129/250\n",
            "255/255 [==============================] - 1s 4ms/step - loss: 0.3306 - accuracy: 0.8546 - auc: 0.9163 - val_loss: 0.3336 - val_accuracy: 0.8478 - val_auc: 0.9116\n",
            "Epoch 130/250\n",
            "255/255 [==============================] - 1s 6ms/step - loss: 0.3300 - accuracy: 0.8555 - auc: 0.9167 - val_loss: 0.3331 - val_accuracy: 0.8473 - val_auc: 0.9119\n",
            "Epoch 131/250\n",
            "255/255 [==============================] - 1s 5ms/step - loss: 0.3295 - accuracy: 0.8568 - auc: 0.9171 - val_loss: 0.3327 - val_accuracy: 0.8493 - val_auc: 0.9122\n",
            "Epoch 132/250\n",
            "255/255 [==============================] - 1s 4ms/step - loss: 0.3289 - accuracy: 0.8573 - auc: 0.9174 - val_loss: 0.3323 - val_accuracy: 0.8473 - val_auc: 0.9125\n",
            "Epoch 133/250\n",
            "255/255 [==============================] - 1s 4ms/step - loss: 0.3285 - accuracy: 0.8575 - auc: 0.9177 - val_loss: 0.3318 - val_accuracy: 0.8488 - val_auc: 0.9126\n",
            "Epoch 134/250\n",
            "255/255 [==============================] - 1s 4ms/step - loss: 0.3279 - accuracy: 0.8568 - auc: 0.9180 - val_loss: 0.3315 - val_accuracy: 0.8488 - val_auc: 0.9130\n",
            "Epoch 135/250\n",
            "255/255 [==============================] - 1s 4ms/step - loss: 0.3274 - accuracy: 0.8585 - auc: 0.9182 - val_loss: 0.3311 - val_accuracy: 0.8498 - val_auc: 0.9131\n",
            "Epoch 136/250\n",
            "255/255 [==============================] - 1s 4ms/step - loss: 0.3269 - accuracy: 0.8570 - auc: 0.9185 - val_loss: 0.3305 - val_accuracy: 0.8488 - val_auc: 0.9135\n",
            "Epoch 137/250\n",
            "255/255 [==============================] - 1s 4ms/step - loss: 0.3264 - accuracy: 0.8589 - auc: 0.9189 - val_loss: 0.3301 - val_accuracy: 0.8498 - val_auc: 0.9137\n",
            "Epoch 138/250\n",
            "255/255 [==============================] - 1s 4ms/step - loss: 0.3258 - accuracy: 0.8582 - auc: 0.9192 - val_loss: 0.3297 - val_accuracy: 0.8503 - val_auc: 0.9140\n",
            "Epoch 139/250\n",
            "255/255 [==============================] - 1s 4ms/step - loss: 0.3253 - accuracy: 0.8584 - auc: 0.9194 - val_loss: 0.3292 - val_accuracy: 0.8508 - val_auc: 0.9142\n",
            "Epoch 140/250\n",
            "255/255 [==============================] - 1s 4ms/step - loss: 0.3248 - accuracy: 0.8595 - auc: 0.9196 - val_loss: 0.3288 - val_accuracy: 0.8522 - val_auc: 0.9146\n",
            "Epoch 141/250\n",
            "255/255 [==============================] - 1s 6ms/step - loss: 0.3243 - accuracy: 0.8587 - auc: 0.9200 - val_loss: 0.3284 - val_accuracy: 0.8503 - val_auc: 0.9147\n",
            "Epoch 142/250\n",
            "255/255 [==============================] - 1s 5ms/step - loss: 0.3238 - accuracy: 0.8597 - auc: 0.9202 - val_loss: 0.3281 - val_accuracy: 0.8517 - val_auc: 0.9149\n",
            "Epoch 143/250\n",
            "255/255 [==============================] - 1s 4ms/step - loss: 0.3234 - accuracy: 0.8595 - auc: 0.9205 - val_loss: 0.3277 - val_accuracy: 0.8522 - val_auc: 0.9150\n",
            "Epoch 144/250\n",
            "255/255 [==============================] - 1s 4ms/step - loss: 0.3227 - accuracy: 0.8605 - auc: 0.9209 - val_loss: 0.3271 - val_accuracy: 0.8522 - val_auc: 0.9154\n",
            "Epoch 145/250\n",
            "255/255 [==============================] - 1s 4ms/step - loss: 0.3223 - accuracy: 0.8606 - auc: 0.9213 - val_loss: 0.3267 - val_accuracy: 0.8522 - val_auc: 0.9157\n",
            "Epoch 146/250\n",
            "255/255 [==============================] - 1s 4ms/step - loss: 0.3218 - accuracy: 0.8596 - auc: 0.9213 - val_loss: 0.3263 - val_accuracy: 0.8522 - val_auc: 0.9158\n",
            "Epoch 147/250\n",
            "255/255 [==============================] - 1s 4ms/step - loss: 0.3214 - accuracy: 0.8595 - auc: 0.9216 - val_loss: 0.3259 - val_accuracy: 0.8522 - val_auc: 0.9161\n",
            "Epoch 148/250\n",
            "255/255 [==============================] - 1s 4ms/step - loss: 0.3208 - accuracy: 0.8608 - auc: 0.9220 - val_loss: 0.3254 - val_accuracy: 0.8542 - val_auc: 0.9165\n",
            "Epoch 149/250\n",
            "255/255 [==============================] - 1s 5ms/step - loss: 0.3203 - accuracy: 0.8607 - auc: 0.9221 - val_loss: 0.3250 - val_accuracy: 0.8542 - val_auc: 0.9168\n",
            "Epoch 150/250\n",
            "255/255 [==============================] - 1s 4ms/step - loss: 0.3197 - accuracy: 0.8623 - auc: 0.9225 - val_loss: 0.3246 - val_accuracy: 0.8532 - val_auc: 0.9169\n",
            "Epoch 151/250\n",
            "255/255 [==============================] - 1s 4ms/step - loss: 0.3193 - accuracy: 0.8616 - auc: 0.9227 - val_loss: 0.3242 - val_accuracy: 0.8547 - val_auc: 0.9173\n",
            "Epoch 152/250\n",
            "255/255 [==============================] - 1s 6ms/step - loss: 0.3188 - accuracy: 0.8629 - auc: 0.9231 - val_loss: 0.3238 - val_accuracy: 0.8527 - val_auc: 0.9174\n",
            "Epoch 153/250\n",
            "255/255 [==============================] - 1s 5ms/step - loss: 0.3183 - accuracy: 0.8629 - auc: 0.9234 - val_loss: 0.3234 - val_accuracy: 0.8527 - val_auc: 0.9176\n",
            "Epoch 154/250\n",
            "255/255 [==============================] - 1s 4ms/step - loss: 0.3178 - accuracy: 0.8628 - auc: 0.9236 - val_loss: 0.3230 - val_accuracy: 0.8542 - val_auc: 0.9180\n",
            "Epoch 155/250\n",
            "255/255 [==============================] - 1s 4ms/step - loss: 0.3172 - accuracy: 0.8623 - auc: 0.9240 - val_loss: 0.3226 - val_accuracy: 0.8562 - val_auc: 0.9183\n",
            "Epoch 156/250\n",
            "255/255 [==============================] - 1s 4ms/step - loss: 0.3169 - accuracy: 0.8639 - auc: 0.9242 - val_loss: 0.3221 - val_accuracy: 0.8552 - val_auc: 0.9184\n",
            "Epoch 157/250\n",
            "255/255 [==============================] - 1s 4ms/step - loss: 0.3163 - accuracy: 0.8634 - auc: 0.9246 - val_loss: 0.3218 - val_accuracy: 0.8547 - val_auc: 0.9185\n",
            "Epoch 158/250\n",
            "255/255 [==============================] - 1s 4ms/step - loss: 0.3159 - accuracy: 0.8643 - auc: 0.9246 - val_loss: 0.3214 - val_accuracy: 0.8552 - val_auc: 0.9187\n",
            "Epoch 159/250\n",
            "255/255 [==============================] - 1s 4ms/step - loss: 0.3153 - accuracy: 0.8652 - auc: 0.9251 - val_loss: 0.3211 - val_accuracy: 0.8542 - val_auc: 0.9189\n",
            "Epoch 160/250\n",
            "255/255 [==============================] - 1s 4ms/step - loss: 0.3148 - accuracy: 0.8638 - auc: 0.9253 - val_loss: 0.3205 - val_accuracy: 0.8567 - val_auc: 0.9194\n",
            "Epoch 161/250\n",
            "255/255 [==============================] - 1s 4ms/step - loss: 0.3143 - accuracy: 0.8652 - auc: 0.9256 - val_loss: 0.3201 - val_accuracy: 0.8557 - val_auc: 0.9195\n",
            "Epoch 162/250\n",
            "255/255 [==============================] - 1s 4ms/step - loss: 0.3139 - accuracy: 0.8650 - auc: 0.9258 - val_loss: 0.3197 - val_accuracy: 0.8576 - val_auc: 0.9197\n",
            "Epoch 163/250\n",
            "255/255 [==============================] - 1s 5ms/step - loss: 0.3134 - accuracy: 0.8661 - auc: 0.9259 - val_loss: 0.3194 - val_accuracy: 0.8586 - val_auc: 0.9199\n",
            "Epoch 164/250\n",
            "255/255 [==============================] - 2s 6ms/step - loss: 0.3129 - accuracy: 0.8661 - auc: 0.9263 - val_loss: 0.3194 - val_accuracy: 0.8571 - val_auc: 0.9200\n",
            "Epoch 165/250\n",
            "255/255 [==============================] - 1s 4ms/step - loss: 0.3125 - accuracy: 0.8652 - auc: 0.9265 - val_loss: 0.3185 - val_accuracy: 0.8586 - val_auc: 0.9204\n",
            "Epoch 166/250\n",
            "255/255 [==============================] - 1s 4ms/step - loss: 0.3119 - accuracy: 0.8668 - auc: 0.9269 - val_loss: 0.3181 - val_accuracy: 0.8601 - val_auc: 0.9206\n",
            "Epoch 167/250\n",
            "255/255 [==============================] - 1s 4ms/step - loss: 0.3115 - accuracy: 0.8668 - auc: 0.9271 - val_loss: 0.3177 - val_accuracy: 0.8601 - val_auc: 0.9209\n",
            "Epoch 168/250\n",
            "255/255 [==============================] - 1s 4ms/step - loss: 0.3109 - accuracy: 0.8678 - auc: 0.9274 - val_loss: 0.3178 - val_accuracy: 0.8581 - val_auc: 0.9209\n",
            "Epoch 169/250\n",
            "255/255 [==============================] - 1s 4ms/step - loss: 0.3106 - accuracy: 0.8678 - auc: 0.9275 - val_loss: 0.3169 - val_accuracy: 0.8606 - val_auc: 0.9212\n",
            "Epoch 170/250\n",
            "255/255 [==============================] - 1s 4ms/step - loss: 0.3100 - accuracy: 0.8679 - auc: 0.9279 - val_loss: 0.3165 - val_accuracy: 0.8601 - val_auc: 0.9215\n",
            "Epoch 171/250\n",
            "255/255 [==============================] - 1s 4ms/step - loss: 0.3096 - accuracy: 0.8688 - auc: 0.9281 - val_loss: 0.3161 - val_accuracy: 0.8606 - val_auc: 0.9217\n",
            "Epoch 172/250\n",
            "255/255 [==============================] - 1s 4ms/step - loss: 0.3091 - accuracy: 0.8683 - auc: 0.9284 - val_loss: 0.3159 - val_accuracy: 0.8611 - val_auc: 0.9218\n",
            "Epoch 173/250\n",
            "255/255 [==============================] - 1s 4ms/step - loss: 0.3087 - accuracy: 0.8681 - auc: 0.9285 - val_loss: 0.3154 - val_accuracy: 0.8596 - val_auc: 0.9220\n",
            "Epoch 174/250\n",
            "255/255 [==============================] - 1s 5ms/step - loss: 0.3082 - accuracy: 0.8695 - auc: 0.9287 - val_loss: 0.3152 - val_accuracy: 0.8616 - val_auc: 0.9222\n",
            "Epoch 175/250\n",
            "255/255 [==============================] - 1s 6ms/step - loss: 0.3076 - accuracy: 0.8690 - auc: 0.9292 - val_loss: 0.3146 - val_accuracy: 0.8650 - val_auc: 0.9227\n",
            "Epoch 176/250\n",
            "255/255 [==============================] - 1s 4ms/step - loss: 0.3073 - accuracy: 0.8693 - auc: 0.9293 - val_loss: 0.3142 - val_accuracy: 0.8601 - val_auc: 0.9228\n",
            "Epoch 177/250\n",
            "255/255 [==============================] - 1s 4ms/step - loss: 0.3067 - accuracy: 0.8705 - auc: 0.9296 - val_loss: 0.3140 - val_accuracy: 0.8596 - val_auc: 0.9229\n",
            "Epoch 178/250\n",
            "255/255 [==============================] - 1s 4ms/step - loss: 0.3062 - accuracy: 0.8702 - auc: 0.9298 - val_loss: 0.3139 - val_accuracy: 0.8616 - val_auc: 0.9231\n",
            "Epoch 179/250\n",
            "255/255 [==============================] - 1s 5ms/step - loss: 0.3059 - accuracy: 0.8703 - auc: 0.9301 - val_loss: 0.3131 - val_accuracy: 0.8611 - val_auc: 0.9235\n",
            "Epoch 180/250\n",
            "255/255 [==============================] - 1s 4ms/step - loss: 0.3055 - accuracy: 0.8710 - auc: 0.9303 - val_loss: 0.3128 - val_accuracy: 0.8611 - val_auc: 0.9236\n",
            "Epoch 181/250\n",
            "255/255 [==============================] - 1s 4ms/step - loss: 0.3049 - accuracy: 0.8710 - auc: 0.9306 - val_loss: 0.3123 - val_accuracy: 0.8616 - val_auc: 0.9238\n",
            "Epoch 182/250\n",
            "255/255 [==============================] - 1s 4ms/step - loss: 0.3044 - accuracy: 0.8708 - auc: 0.9308 - val_loss: 0.3121 - val_accuracy: 0.8625 - val_auc: 0.9240\n",
            "Epoch 183/250\n",
            "255/255 [==============================] - 1s 4ms/step - loss: 0.3040 - accuracy: 0.8706 - auc: 0.9312 - val_loss: 0.3115 - val_accuracy: 0.8655 - val_auc: 0.9244\n",
            "Epoch 184/250\n",
            "255/255 [==============================] - 1s 4ms/step - loss: 0.3035 - accuracy: 0.8719 - auc: 0.9314 - val_loss: 0.3111 - val_accuracy: 0.8625 - val_auc: 0.9245\n",
            "Epoch 185/250\n",
            "255/255 [==============================] - 1s 5ms/step - loss: 0.3031 - accuracy: 0.8713 - auc: 0.9315 - val_loss: 0.3108 - val_accuracy: 0.8630 - val_auc: 0.9247\n",
            "Epoch 186/250\n",
            "255/255 [==============================] - 1s 5ms/step - loss: 0.3025 - accuracy: 0.8724 - auc: 0.9318 - val_loss: 0.3105 - val_accuracy: 0.8630 - val_auc: 0.9249\n",
            "Epoch 187/250\n",
            "255/255 [==============================] - 1s 4ms/step - loss: 0.3021 - accuracy: 0.8721 - auc: 0.9320 - val_loss: 0.3100 - val_accuracy: 0.8655 - val_auc: 0.9252\n",
            "Epoch 188/250\n",
            "255/255 [==============================] - 1s 4ms/step - loss: 0.3017 - accuracy: 0.8731 - auc: 0.9322 - val_loss: 0.3096 - val_accuracy: 0.8655 - val_auc: 0.9253\n",
            "Epoch 189/250\n",
            "255/255 [==============================] - 1s 4ms/step - loss: 0.3012 - accuracy: 0.8737 - auc: 0.9326 - val_loss: 0.3093 - val_accuracy: 0.8635 - val_auc: 0.9256\n",
            "Epoch 190/250\n",
            "255/255 [==============================] - 1s 4ms/step - loss: 0.3007 - accuracy: 0.8726 - auc: 0.9328 - val_loss: 0.3088 - val_accuracy: 0.8679 - val_auc: 0.9259\n",
            "Epoch 191/250\n",
            "255/255 [==============================] - 1s 4ms/step - loss: 0.3004 - accuracy: 0.8731 - auc: 0.9329 - val_loss: 0.3086 - val_accuracy: 0.8650 - val_auc: 0.9260\n",
            "Epoch 192/250\n",
            "255/255 [==============================] - 1s 4ms/step - loss: 0.2999 - accuracy: 0.8737 - auc: 0.9332 - val_loss: 0.3082 - val_accuracy: 0.8655 - val_auc: 0.9262\n",
            "Epoch 193/250\n",
            "255/255 [==============================] - 1s 4ms/step - loss: 0.2994 - accuracy: 0.8737 - auc: 0.9335 - val_loss: 0.3078 - val_accuracy: 0.8655 - val_auc: 0.9264\n",
            "Epoch 194/250\n",
            "255/255 [==============================] - 1s 4ms/step - loss: 0.2989 - accuracy: 0.8732 - auc: 0.9337 - val_loss: 0.3074 - val_accuracy: 0.8670 - val_auc: 0.9266\n",
            "Epoch 195/250\n",
            "255/255 [==============================] - 1s 4ms/step - loss: 0.2985 - accuracy: 0.8740 - auc: 0.9338 - val_loss: 0.3069 - val_accuracy: 0.8684 - val_auc: 0.9268\n",
            "Epoch 196/250\n",
            "255/255 [==============================] - 1s 4ms/step - loss: 0.2980 - accuracy: 0.8738 - auc: 0.9341 - val_loss: 0.3066 - val_accuracy: 0.8709 - val_auc: 0.9269\n",
            "Epoch 197/250\n",
            "255/255 [==============================] - 1s 6ms/step - loss: 0.2975 - accuracy: 0.8767 - auc: 0.9345 - val_loss: 0.3066 - val_accuracy: 0.8655 - val_auc: 0.9269\n",
            "Epoch 198/250\n",
            "255/255 [==============================] - 1s 4ms/step - loss: 0.2972 - accuracy: 0.8746 - auc: 0.9345 - val_loss: 0.3059 - val_accuracy: 0.8675 - val_auc: 0.9273\n",
            "Epoch 199/250\n",
            "255/255 [==============================] - 1s 4ms/step - loss: 0.2967 - accuracy: 0.8756 - auc: 0.9348 - val_loss: 0.3054 - val_accuracy: 0.8689 - val_auc: 0.9275\n",
            "Epoch 200/250\n",
            "255/255 [==============================] - 1s 4ms/step - loss: 0.2963 - accuracy: 0.8749 - auc: 0.9350 - val_loss: 0.3052 - val_accuracy: 0.8675 - val_auc: 0.9276\n",
            "Epoch 201/250\n",
            "255/255 [==============================] - 1s 4ms/step - loss: 0.2959 - accuracy: 0.8749 - auc: 0.9352 - val_loss: 0.3047 - val_accuracy: 0.8679 - val_auc: 0.9278\n",
            "Epoch 202/250\n",
            "255/255 [==============================] - 1s 4ms/step - loss: 0.2954 - accuracy: 0.8754 - auc: 0.9354 - val_loss: 0.3042 - val_accuracy: 0.8704 - val_auc: 0.9280\n",
            "Epoch 203/250\n",
            "255/255 [==============================] - 1s 4ms/step - loss: 0.2949 - accuracy: 0.8753 - auc: 0.9356 - val_loss: 0.3039 - val_accuracy: 0.8709 - val_auc: 0.9282\n",
            "Epoch 204/250\n",
            "255/255 [==============================] - 1s 5ms/step - loss: 0.2946 - accuracy: 0.8763 - auc: 0.9358 - val_loss: 0.3035 - val_accuracy: 0.8709 - val_auc: 0.9284\n",
            "Epoch 205/250\n",
            "255/255 [==============================] - 1s 4ms/step - loss: 0.2938 - accuracy: 0.8762 - auc: 0.9362 - val_loss: 0.3033 - val_accuracy: 0.8753 - val_auc: 0.9288\n",
            "Epoch 206/250\n",
            "255/255 [==============================] - 1s 4ms/step - loss: 0.2937 - accuracy: 0.8762 - auc: 0.9363 - val_loss: 0.3028 - val_accuracy: 0.8709 - val_auc: 0.9287\n",
            "Epoch 207/250\n",
            "255/255 [==============================] - 1s 5ms/step - loss: 0.2931 - accuracy: 0.8778 - auc: 0.9367 - val_loss: 0.3024 - val_accuracy: 0.8729 - val_auc: 0.9289\n",
            "Epoch 208/250\n",
            "255/255 [==============================] - 1s 6ms/step - loss: 0.2926 - accuracy: 0.8776 - auc: 0.9369 - val_loss: 0.3029 - val_accuracy: 0.8684 - val_auc: 0.9290\n",
            "Epoch 209/250\n",
            "255/255 [==============================] - 1s 5ms/step - loss: 0.2923 - accuracy: 0.8765 - auc: 0.9368 - val_loss: 0.3018 - val_accuracy: 0.8729 - val_auc: 0.9292\n",
            "Epoch 210/250\n",
            "255/255 [==============================] - 1s 4ms/step - loss: 0.2918 - accuracy: 0.8779 - auc: 0.9373 - val_loss: 0.3014 - val_accuracy: 0.8729 - val_auc: 0.9294\n",
            "Epoch 211/250\n",
            "255/255 [==============================] - 1s 4ms/step - loss: 0.2914 - accuracy: 0.8779 - auc: 0.9374 - val_loss: 0.3010 - val_accuracy: 0.8724 - val_auc: 0.9296\n",
            "Epoch 212/250\n",
            "255/255 [==============================] - 1s 4ms/step - loss: 0.2910 - accuracy: 0.8784 - auc: 0.9375 - val_loss: 0.3006 - val_accuracy: 0.8729 - val_auc: 0.9298\n",
            "Epoch 213/250\n",
            "255/255 [==============================] - 1s 4ms/step - loss: 0.2905 - accuracy: 0.8798 - auc: 0.9379 - val_loss: 0.3003 - val_accuracy: 0.8733 - val_auc: 0.9299\n",
            "Epoch 214/250\n",
            "255/255 [==============================] - 1s 4ms/step - loss: 0.2901 - accuracy: 0.8789 - auc: 0.9380 - val_loss: 0.2998 - val_accuracy: 0.8753 - val_auc: 0.9302\n",
            "Epoch 215/250\n",
            "255/255 [==============================] - 1s 4ms/step - loss: 0.2896 - accuracy: 0.8805 - auc: 0.9382 - val_loss: 0.2995 - val_accuracy: 0.8729 - val_auc: 0.9303\n",
            "Epoch 216/250\n",
            "255/255 [==============================] - 1s 4ms/step - loss: 0.2892 - accuracy: 0.8805 - auc: 0.9384 - val_loss: 0.2991 - val_accuracy: 0.8724 - val_auc: 0.9305\n",
            "Epoch 217/250\n",
            "255/255 [==============================] - 1s 4ms/step - loss: 0.2887 - accuracy: 0.8808 - auc: 0.9386 - val_loss: 0.2987 - val_accuracy: 0.8758 - val_auc: 0.9307\n",
            "Epoch 218/250\n",
            "255/255 [==============================] - 1s 6ms/step - loss: 0.2884 - accuracy: 0.8797 - auc: 0.9387 - val_loss: 0.2983 - val_accuracy: 0.8748 - val_auc: 0.9309\n",
            "Epoch 219/250\n",
            "255/255 [==============================] - 1s 6ms/step - loss: 0.2880 - accuracy: 0.8818 - auc: 0.9390 - val_loss: 0.2980 - val_accuracy: 0.8753 - val_auc: 0.9310\n",
            "Epoch 220/250\n",
            "255/255 [==============================] - 1s 5ms/step - loss: 0.2876 - accuracy: 0.8814 - auc: 0.9393 - val_loss: 0.2977 - val_accuracy: 0.8748 - val_auc: 0.9312\n",
            "Epoch 221/250\n",
            "255/255 [==============================] - 1s 4ms/step - loss: 0.2871 - accuracy: 0.8813 - auc: 0.9394 - val_loss: 0.2973 - val_accuracy: 0.8748 - val_auc: 0.9313\n",
            "Epoch 222/250\n",
            "255/255 [==============================] - 1s 5ms/step - loss: 0.2866 - accuracy: 0.8817 - auc: 0.9397 - val_loss: 0.2969 - val_accuracy: 0.8802 - val_auc: 0.9317\n",
            "Epoch 223/250\n",
            "255/255 [==============================] - 1s 5ms/step - loss: 0.2862 - accuracy: 0.8816 - auc: 0.9399 - val_loss: 0.2968 - val_accuracy: 0.8763 - val_auc: 0.9316\n",
            "Epoch 224/250\n",
            "255/255 [==============================] - 1s 5ms/step - loss: 0.2858 - accuracy: 0.8825 - auc: 0.9401 - val_loss: 0.2962 - val_accuracy: 0.8768 - val_auc: 0.9320\n",
            "Epoch 225/250\n",
            "255/255 [==============================] - 1s 5ms/step - loss: 0.2852 - accuracy: 0.8827 - auc: 0.9404 - val_loss: 0.2962 - val_accuracy: 0.8763 - val_auc: 0.9319\n",
            "Epoch 226/250\n",
            "255/255 [==============================] - 1s 4ms/step - loss: 0.2849 - accuracy: 0.8825 - auc: 0.9404 - val_loss: 0.2954 - val_accuracy: 0.8792 - val_auc: 0.9323\n",
            "Epoch 227/250\n",
            "255/255 [==============================] - 1s 5ms/step - loss: 0.2844 - accuracy: 0.8829 - auc: 0.9408 - val_loss: 0.2951 - val_accuracy: 0.8768 - val_auc: 0.9324\n",
            "Epoch 228/250\n",
            "255/255 [==============================] - 1s 6ms/step - loss: 0.2840 - accuracy: 0.8844 - auc: 0.9409 - val_loss: 0.2949 - val_accuracy: 0.8778 - val_auc: 0.9325\n",
            "Epoch 229/250\n",
            "255/255 [==============================] - 2s 6ms/step - loss: 0.2835 - accuracy: 0.8835 - auc: 0.9410 - val_loss: 0.2943 - val_accuracy: 0.8792 - val_auc: 0.9329\n",
            "Epoch 230/250\n",
            "255/255 [==============================] - 1s 5ms/step - loss: 0.2831 - accuracy: 0.8837 - auc: 0.9412 - val_loss: 0.2940 - val_accuracy: 0.8832 - val_auc: 0.9330\n",
            "Epoch 231/250\n",
            "255/255 [==============================] - 1s 5ms/step - loss: 0.2827 - accuracy: 0.8846 - auc: 0.9415 - val_loss: 0.2936 - val_accuracy: 0.8792 - val_auc: 0.9332\n",
            "Epoch 232/250\n",
            "255/255 [==============================] - 1s 4ms/step - loss: 0.2823 - accuracy: 0.8844 - auc: 0.9415 - val_loss: 0.2933 - val_accuracy: 0.8802 - val_auc: 0.9333\n",
            "Epoch 233/250\n",
            "255/255 [==============================] - 1s 4ms/step - loss: 0.2817 - accuracy: 0.8865 - auc: 0.9419 - val_loss: 0.2935 - val_accuracy: 0.8787 - val_auc: 0.9334\n",
            "Epoch 234/250\n",
            "255/255 [==============================] - 1s 4ms/step - loss: 0.2815 - accuracy: 0.8850 - auc: 0.9420 - val_loss: 0.2925 - val_accuracy: 0.8807 - val_auc: 0.9338\n",
            "Epoch 235/250\n",
            "255/255 [==============================] - 1s 4ms/step - loss: 0.2810 - accuracy: 0.8862 - auc: 0.9422 - val_loss: 0.2921 - val_accuracy: 0.8837 - val_auc: 0.9340\n",
            "Epoch 236/250\n",
            "255/255 [==============================] - 1s 4ms/step - loss: 0.2806 - accuracy: 0.8855 - auc: 0.9424 - val_loss: 0.2920 - val_accuracy: 0.8807 - val_auc: 0.9340\n",
            "Epoch 237/250\n",
            "255/255 [==============================] - 1s 5ms/step - loss: 0.2802 - accuracy: 0.8856 - auc: 0.9427 - val_loss: 0.2915 - val_accuracy: 0.8807 - val_auc: 0.9343\n",
            "Epoch 238/250\n",
            "255/255 [==============================] - 1s 6ms/step - loss: 0.2798 - accuracy: 0.8875 - auc: 0.9426 - val_loss: 0.2911 - val_accuracy: 0.8817 - val_auc: 0.9344\n",
            "Epoch 239/250\n",
            "255/255 [==============================] - 2s 6ms/step - loss: 0.2793 - accuracy: 0.8875 - auc: 0.9430 - val_loss: 0.2912 - val_accuracy: 0.8817 - val_auc: 0.9344\n",
            "Epoch 240/250\n",
            "255/255 [==============================] - 1s 5ms/step - loss: 0.2789 - accuracy: 0.8870 - auc: 0.9430 - val_loss: 0.2903 - val_accuracy: 0.8856 - val_auc: 0.9348\n",
            "Epoch 241/250\n",
            "255/255 [==============================] - 1s 5ms/step - loss: 0.2784 - accuracy: 0.8876 - auc: 0.9433 - val_loss: 0.2901 - val_accuracy: 0.8812 - val_auc: 0.9349\n",
            "Epoch 242/250\n",
            "255/255 [==============================] - 1s 5ms/step - loss: 0.2781 - accuracy: 0.8872 - auc: 0.9435 - val_loss: 0.2896 - val_accuracy: 0.8846 - val_auc: 0.9351\n",
            "Epoch 243/250\n",
            "255/255 [==============================] - 1s 5ms/step - loss: 0.2777 - accuracy: 0.8884 - auc: 0.9437 - val_loss: 0.2892 - val_accuracy: 0.8856 - val_auc: 0.9353\n",
            "Epoch 244/250\n",
            "255/255 [==============================] - 1s 5ms/step - loss: 0.2772 - accuracy: 0.8884 - auc: 0.9439 - val_loss: 0.2890 - val_accuracy: 0.8827 - val_auc: 0.9354\n",
            "Epoch 245/250\n",
            "255/255 [==============================] - 1s 5ms/step - loss: 0.2768 - accuracy: 0.8897 - auc: 0.9441 - val_loss: 0.2886 - val_accuracy: 0.8841 - val_auc: 0.9356\n",
            "Epoch 246/250\n",
            "255/255 [==============================] - 1s 5ms/step - loss: 0.2764 - accuracy: 0.8899 - auc: 0.9443 - val_loss: 0.2882 - val_accuracy: 0.8837 - val_auc: 0.9358\n",
            "Epoch 247/250\n",
            "255/255 [==============================] - 1s 5ms/step - loss: 0.2760 - accuracy: 0.8895 - auc: 0.9445 - val_loss: 0.2879 - val_accuracy: 0.8846 - val_auc: 0.9359\n",
            "Epoch 248/250\n",
            "255/255 [==============================] - 2s 6ms/step - loss: 0.2756 - accuracy: 0.8902 - auc: 0.9446 - val_loss: 0.2875 - val_accuracy: 0.8851 - val_auc: 0.9360\n",
            "Epoch 249/250\n",
            "255/255 [==============================] - 2s 6ms/step - loss: 0.2751 - accuracy: 0.8908 - auc: 0.9449 - val_loss: 0.2871 - val_accuracy: 0.8891 - val_auc: 0.9362\n",
            "Epoch 250/250\n",
            "255/255 [==============================] - 1s 5ms/step - loss: 0.2749 - accuracy: 0.8900 - auc: 0.9449 - val_loss: 0.2867 - val_accuracy: 0.8861 - val_auc: 0.9364\n"
          ]
        }
      ],
      "source": [
        "model.compile(optimizer=keras.optimizers.Adam(learning_rate=0.00001), loss=\"BinaryCrossentropy\", metrics=[\"accuracy\", keras.metrics.AUC(name=\"auc\")])\n",
        "history=model.fit(\n",
        "    data_train,\n",
        "    label_train,\n",
        "    validation_split=0.2,\n",
        "    batch_size=32,\n",
        "    epochs=250,\n",
        "    callbacks= [\n",
        "        keras.callbacks.EarlyStopping(\n",
        "            monitor='val_loss',\n",
        "            patience=15,\n",
        "            restore_best_weights=True\n",
        "        )\n",
        "    ]\n",
        "\n",
        ")"
      ]
    },
    {
      "cell_type": "code",
      "execution_count": null,
      "metadata": {
        "colab": {
          "base_uri": "https://localhost:8080/",
          "height": 504
        },
        "id": "uwC2JcHsykEu",
        "outputId": "b847c4ce-2544-4c06-f0e8-01905f672c19"
      },
      "outputs": [
        {
          "output_type": "stream",
          "name": "stdout",
          "text": [
            "[0.6210634112358093, 0.587358295917511, 0.5650864839553833, 0.5500110983848572, 0.538162887096405, 0.5279467105865479, 0.5191106200218201, 0.5112484693527222, 0.5040403604507446, 0.4975531995296478, 0.4916019141674042, 0.48617371916770935, 0.48105329275131226, 0.476200133562088, 0.4715162217617035, 0.4671919047832489, 0.4630278944969177, 0.4591391980648041, 0.45524537563323975, 0.4515741765499115, 0.44814932346343994, 0.44485923647880554, 0.44171449542045593, 0.4386872351169586, 0.43578314781188965, 0.43302854895591736, 0.4303451478481293, 0.4278086721897125, 0.4253372550010681, 0.4229368567466736, 0.4206724166870117, 0.4184451401233673, 0.41641050577163696, 0.4143542945384979, 0.41235610842704773, 0.41042959690093994, 0.40864241123199463, 0.406769335269928, 0.4049685299396515, 0.40324342250823975, 0.4016294479370117, 0.39996588230133057, 0.3984168469905853, 0.3968919515609741, 0.3952077329158783, 0.3938722014427185, 0.39245492219924927, 0.3911084830760956, 0.3898036479949951, 0.3884269595146179, 0.38724133372306824, 0.3859286308288574, 0.3846963942050934, 0.383549302816391, 0.3824251890182495, 0.3812578618526459, 0.3801475167274475, 0.37902629375457764, 0.3780643939971924, 0.37698420882225037, 0.37604379653930664, 0.37509259581565857, 0.37404996156692505, 0.37309542298316956, 0.37220439314842224, 0.3712764084339142, 0.3704383969306946, 0.36949002742767334, 0.3686892092227936, 0.36789828538894653, 0.3670373558998108, 0.36623725295066833, 0.3654414117336273, 0.3646189570426941, 0.3638280928134918, 0.3630731999874115, 0.3623411953449249, 0.3615904748439789, 0.36083829402923584, 0.3601078689098358, 0.3593752086162567, 0.35862839221954346, 0.35791873931884766, 0.3573019504547119, 0.3565477132797241, 0.35588592290878296, 0.35522782802581787, 0.35460343956947327, 0.35382792353630066, 0.35326215624809265, 0.3525844216346741, 0.35195210576057434, 0.3512657582759857, 0.3507123589515686, 0.35007455945014954, 0.3494589626789093, 0.34882181882858276, 0.3481752872467041, 0.3475992977619171, 0.34698930382728577, 0.34634163975715637, 0.34572622179985046, 0.3451295495033264, 0.3445392847061157, 0.3439773619174957, 0.3434411883354187, 0.34270694851875305, 0.3421739637851715, 0.34168511629104614, 0.34113943576812744, 0.34045135974884033, 0.3399280607700348, 0.3393402695655823, 0.3387269973754883, 0.33823901414871216, 0.33767157793045044, 0.33709922432899475, 0.33652064204216003, 0.3359445035457611, 0.3354805111885071, 0.334875226020813, 0.33440595865249634, 0.3337830603122711, 0.3332690894603729, 0.33268794417381287, 0.33214402198791504, 0.33162635564804077, 0.3310267925262451, 0.3305789530277252, 0.33004486560821533, 0.32953357696533203, 0.3288980722427368, 0.3284945487976074, 0.327859491109848, 0.32740092277526855, 0.32688310742378235, 0.3263775110244751, 0.32584044337272644, 0.32534000277519226, 0.3248043954372406, 0.32425859570503235, 0.3238081932067871, 0.3233753740787506, 0.32274192571640015, 0.32226651906967163, 0.32180967926979065, 0.32138755917549133, 0.3207924962043762, 0.32033875584602356, 0.31974998116493225, 0.3193049728870392, 0.31880679726600647, 0.31829211115837097, 0.3177778124809265, 0.31724950671195984, 0.3168676197528839, 0.3162589371204376, 0.31588518619537354, 0.31527695059776306, 0.3147561550140381, 0.31432652473449707, 0.3138553202152252, 0.3133957087993622, 0.3129065930843353, 0.31246712803840637, 0.31189489364624023, 0.3115047514438629, 0.31086596846580505, 0.3106352686882019, 0.3100129961967468, 0.3095867335796356, 0.3090771734714508, 0.30868229269981384, 0.30822861194610596, 0.30764204263687134, 0.3072625994682312, 0.3066951632499695, 0.3061977028846741, 0.30593937635421753, 0.3055189847946167, 0.30494314432144165, 0.3044050931930542, 0.303957462310791, 0.3034743368625641, 0.3030511438846588, 0.30253303050994873, 0.3021491765975952, 0.3016562759876251, 0.30119967460632324, 0.3007030189037323, 0.3003794550895691, 0.29988592863082886, 0.2994076609611511, 0.29894766211509705, 0.2985176146030426, 0.29797205328941345, 0.2974698543548584, 0.2971682548522949, 0.29674768447875977, 0.2963270843029022, 0.2959306538105011, 0.2953522801399231, 0.2949292063713074, 0.29455244541168213, 0.2938474416732788, 0.2937048375606537, 0.29309865832328796, 0.2925623953342438, 0.29229822754859924, 0.2917918264865875, 0.2913622558116913, 0.2910199761390686, 0.2904863953590393, 0.29008737206459045, 0.2896210253238678, 0.2891627848148346, 0.2886795699596405, 0.28837716579437256, 0.28800731897354126, 0.2875608503818512, 0.2871120274066925, 0.28656524419784546, 0.2861643433570862, 0.28584179282188416, 0.2851996421813965, 0.2849316895008087, 0.28439635038375854, 0.28395092487335205, 0.28354379534721375, 0.2830946743488312, 0.28271135687828064, 0.2823430597782135, 0.2817451059818268, 0.28150251507759094, 0.280966192483902, 0.2806280255317688, 0.28015467524528503, 0.27980300784111023, 0.2792949676513672, 0.2789155840873718, 0.278446763753891, 0.2781012952327728, 0.277725487947464, 0.27716708183288574, 0.2767552435398102, 0.27635616064071655, 0.2759931683540344, 0.27555137872695923, 0.2751009464263916, 0.27489593625068665]\n"
          ]
        },
        {
          "output_type": "execute_result",
          "data": {
            "text/plain": [
              "<matplotlib.legend.Legend at 0x7fdef04b4ee0>"
            ]
          },
          "metadata": {},
          "execution_count": 5
        },
        {
          "output_type": "display_data",
          "data": {
            "text/plain": [
              "<Figure size 640x480 with 1 Axes>"
            ],
            "image/png": "[encoded data removed]"
          },
          "metadata": {}
        }
      ],
      "source": [
        "print(history.history['loss'])\n",
        "fig,axs=plt.subplots()\n",
        "axs.plot(history.history['loss'])\n",
        "axs.plot(history.history['val_loss'])\n",
        "plt.xlabel('Epochs')\n",
        "plt.ylabel('loss')\n",
        "plt.legend(['loss','validation loss'])"
      ]
    },
    {
      "cell_type": "markdown",
      "metadata": {
        "id": "Vu0TuOtueFx4"
      },
      "source": []
    },
    {
      "cell_type": "markdown",
      "metadata": {
        "id": "9ySd_zpXi1NC"
      },
      "source": [
        "resultats \n"
      ]
    },
    {
      "cell_type": "code",
      "execution_count": null,
      "metadata": {
        "colab": {
          "base_uri": "https://localhost:8080/"
        },
        "id": "JTeZyqRci3Ky",
        "outputId": "9ef4cfa1-b7e0-47de-e92f-b45981b10ea7"
      },
      "outputs": [
        {
          "output_type": "stream",
          "name": "stdout",
          "text": [
            "137/137 [==============================] - 0s 3ms/step - loss: 0.1255 - accuracy: 0.9606 - auc: 0.9880\n"
          ]
        },
        {
          "output_type": "execute_result",
          "data": {
            "text/plain": [
              "[0.12552401423454285, 0.9605956673622131, 0.9880127310752869]"
            ]
          },
          "metadata": {},
          "execution_count": 19
        }
      ],
      "source": [
        "model.evaluate(data_test, label_test)\n"
      ]
    },
    {
      "cell_type": "markdown",
      "metadata": {
        "id": "RUTG3Q2r2H-c"
      },
      "source": [
        "test"
      ]
    },
    {
      "cell_type": "code",
      "execution_count": null,
      "metadata": {
        "colab": {
          "base_uri": "https://localhost:8080/"
        },
        "id": "MoqEQL9G2HYM",
        "outputId": "d55ae08e-fd55-4c4b-d27e-6f25bdf65aef"
      },
      "outputs": [
        {
          "output_type": "stream",
          "name": "stdout",
          "text": [
            "137/137 [==============================] - 1s 3ms/step\n"
          ]
        }
      ],
      "source": [
        "y_prediction = model.predict(data_test)\n",
        "result = confusion_matrix(label_test, np.around(y_prediction))\n"
      ]
    },
    {
      "cell_type": "code",
      "execution_count": null,
      "metadata": {
        "colab": {
          "base_uri": "https://localhost:8080/"
        },
        "id": "8kcwzw7C3KKC",
        "outputId": "07f272c9-96b0-4ce3-b8de-f8d63d44fc03"
      },
      "outputs": [
        {
          "output_type": "stream",
          "name": "stdout",
          "text": [
            "[[1154   85]\n",
            " [  87 3039]]\n"
          ]
        }
      ],
      "source": [
        "print(result)"
      ]
    },
    {
      "cell_type": "code",
      "execution_count": null,
      "metadata": {
        "colab": {
          "base_uri": "https://localhost:8080/"
        },
        "id": "lohUNSojUmKR",
        "outputId": "b6ae214b-eccc-472f-a7f8-ef2b11597ded"
      },
      "outputs": [
        {
          "name": "stdout",
          "output_type": "stream",
          "text": [
            "[[1169   70]\n",
            " [  85 3041]]\n"
          ]
        }
      ],
      "source": [
        "print(result1)\n"
      ]
    }
  ],
  "metadata": {
    "accelerator": "GPU",
    "colab": {
      "provenance": [],
      "include_colab_link": true
    },
    "gpuClass": "standard",
    "kernelspec": {
      "display_name": "Python 3",
      "name": "python3"
    },
    "language_info": {
      "name": "python"
    }
  },
  "nbformat": 4,
  "nbformat_minor": 0
}