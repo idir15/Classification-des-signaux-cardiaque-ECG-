{
  "nbformat": 4,
  "nbformat_minor": 0,
  "metadata": {
    "colab": {
      "provenance": [],
      "toc_visible": true,
      "history_visible": true,
      "authorship_tag": "ABX9TyNE6kXJ8bprHQdSc79rZXI0",
      "include_colab_link": true
    },
    "kernelspec": {
      "name": "python3",
      "display_name": "Python 3"
    },
    "language_info": {
      "name": "python"
    },
    "gpuClass": "standard"
  },
  "cells": [
    {
      "cell_type": "markdown",
      "metadata": {
        "id": "view-in-github",
        "colab_type": "text"
      },
      "source": [
        "<a href=\"https://colab.research.google.com/github/idir15/Classification-des-signaux-cardiaque-ECG-/blob/master/ProjetECG.ipynb\" target=\"_parent\"><img src=\"https://colab.research.google.com/assets/colab-badge.svg\" alt=\"Open In Colab\"/></a>"
      ]
    },
    {
      "cell_type": "code",
      "execution_count": null,
      "metadata": {
        "id": "6kscBFJIYQBB"
      },
      "outputs": [],
      "source": [
        "import keras\n",
        "from tensorflow.keras import layers\n",
        "import numpy as np\n",
        "import pandas as pd\n",
        "from sklearn.model_selection import train_test_split"
      ]
    },
    {
      "cell_type": "code",
      "source": [
        "#charger les fichiers normal et abnormal dans une liste \n",
        "datalist = [pd.read_csv(''+x+'.csv') for x in ['TfNormal', 'TfAnormal' ]]\n",
        "# indexer l'axe des x de 0 a 187\n",
        "for x in datalist :\n",
        "    x.columns = list(range(len(x.columns)))"
      ],
      "metadata": {
        "id": "ZIxkUYVXhQsU"
      },
      "execution_count": null,
      "outputs": []
    },
    {
      "cell_type": "code",
      "source": [],
      "metadata": {
        "id": "qa3aG1mLiSCL"
      },
      "execution_count": null,
      "outputs": []
    },
    {
      "cell_type": "code",
      "source": [
        "#concaténation et melange des données \n",
        "data = pd.concat(datalist, axis=0).sample(frac=1.0, random_state=1).reset_index(drop=True)\n",
        "data = data.rename({187: 'label'}, axis=1)"
      ],
      "metadata": {
        "id": "2GOxEKnThWes"
      },
      "execution_count": null,
      "outputs": []
    },
    {
      "cell_type": "code",
      "source": [
        "#Generation des données et des labels\n",
        "label = data['label'].copy()\n",
        "Data = data.drop('label', axis=1)"
      ],
      "metadata": {
        "id": "_9IyxXsbhcE0"
      },
      "execution_count": null,
      "outputs": []
    },
    {
      "cell_type": "code",
      "source": [
        "#Generation des données et des label d'entrainnement et de test\n",
        "data_train, data_test, label_train, label_test = train_test_split(\n",
        "    Data, label, test_size=0.3, random_state=1)\n"
      ],
      "metadata": {
        "id": "NCaaKw8_huSb"
      },
      "execution_count": null,
      "outputs": []
    },
    {
      "cell_type": "code",
      "source": [
        "#creation du reseau de neurones\n",
        "\n",
        "#declaration de la forme des entrées\n",
        "inputs = keras.Input(shape=(187,))\n",
        "#declaration des couches cachees\n",
        "dense = layers.Dense(128, activation=\"relu\")\n",
        "x = dense(inputs)\n",
        "x = layers.Dense(64, activation=\"relu\")(x)\n",
        "outputs = layers.Dense(1, activation=\"sigmoid\")(x)\n",
        "#creation du modele\n",
        "model = keras.Model(inputs=inputs, outputs=outputs, name=\"test_model\")"
      ],
      "metadata": {
        "id": "AjbPHp_Vh4ct"
      },
      "execution_count": null,
      "outputs": []
    },
    {
      "cell_type": "code",
      "source": [
        "model.compile(optimizer=\"Adam\", loss=\"BinaryCrossentropy\", metrics=[\"accuracy\", keras.metrics.AUC(name=\"auc\")])\n",
        "history=model.fit(\n",
        "    data_train,\n",
        "    label_train,\n",
        "    validation_split=0.2,\n",
        "    batch_size=32,\n",
        "    epochs=100,\n",
        "    callbacks= [\n",
        "        keras.callbacks.EarlyStopping(\n",
        "            monitor='val_loss',\n",
        "            patience=5,\n",
        "            restore_best_weights=True\n",
        "        )\n",
        "    ]\n",
        "\n",
        ")"
      ],
      "metadata": {
        "colab": {
          "base_uri": "https://localhost:8080/"
        },
        "id": "1T0qoBdki9mb",
        "outputId": "a65e4f79-d6b3-49dd-9c76-beb07ff5d8f4"
      },
      "execution_count": null,
      "outputs": [
        {
          "output_type": "stream",
          "name": "stdout",
          "text": [
            "Epoch 1/100\n",
            "255/255 [==============================] - 2s 4ms/step - loss: 0.4343 - accuracy: 0.7915 - auc: 0.8390 - val_loss: 0.3632 - val_accuracy: 0.8336 - val_auc: 0.8956\n",
            "Epoch 2/100\n",
            "255/255 [==============================] - 1s 3ms/step - loss: 0.3489 - accuracy: 0.8416 - auc: 0.9037 - val_loss: 0.3217 - val_accuracy: 0.8591 - val_auc: 0.9200\n",
            "Epoch 3/100\n",
            "255/255 [==============================] - 1s 3ms/step - loss: 0.3119 - accuracy: 0.8632 - auc: 0.9244 - val_loss: 0.2909 - val_accuracy: 0.8895 - val_auc: 0.9374\n",
            "Epoch 4/100\n",
            "255/255 [==============================] - 1s 3ms/step - loss: 0.2716 - accuracy: 0.8860 - auc: 0.9434 - val_loss: 0.2528 - val_accuracy: 0.8905 - val_auc: 0.9511\n",
            "Epoch 5/100\n",
            "255/255 [==============================] - 1s 3ms/step - loss: 0.2366 - accuracy: 0.9010 - auc: 0.9576 - val_loss: 0.2332 - val_accuracy: 0.9048 - val_auc: 0.9587\n",
            "Epoch 6/100\n",
            "255/255 [==============================] - 1s 5ms/step - loss: 0.2099 - accuracy: 0.9130 - auc: 0.9668 - val_loss: 0.2450 - val_accuracy: 0.8886 - val_auc: 0.9560\n",
            "Epoch 7/100\n",
            "255/255 [==============================] - 1s 5ms/step - loss: 0.1951 - accuracy: 0.9206 - auc: 0.9711 - val_loss: 0.1953 - val_accuracy: 0.9195 - val_auc: 0.9706\n",
            "Epoch 8/100\n",
            "255/255 [==============================] - 1s 3ms/step - loss: 0.1737 - accuracy: 0.9302 - auc: 0.9772 - val_loss: 0.1861 - val_accuracy: 0.9298 - val_auc: 0.9729\n",
            "Epoch 9/100\n",
            "255/255 [==============================] - 1s 3ms/step - loss: 0.1570 - accuracy: 0.9386 - auc: 0.9812 - val_loss: 0.2156 - val_accuracy: 0.9013 - val_auc: 0.9770\n",
            "Epoch 10/100\n",
            "255/255 [==============================] - 1s 3ms/step - loss: 0.1471 - accuracy: 0.9433 - auc: 0.9838 - val_loss: 0.1719 - val_accuracy: 0.9303 - val_auc: 0.9801\n",
            "Epoch 11/100\n",
            "255/255 [==============================] - 1s 3ms/step - loss: 0.1373 - accuracy: 0.9473 - auc: 0.9854 - val_loss: 0.1608 - val_accuracy: 0.9381 - val_auc: 0.9801\n",
            "Epoch 12/100\n",
            "255/255 [==============================] - 1s 3ms/step - loss: 0.1231 - accuracy: 0.9531 - auc: 0.9886 - val_loss: 0.1571 - val_accuracy: 0.9323 - val_auc: 0.9809\n",
            "Epoch 13/100\n",
            "255/255 [==============================] - 1s 3ms/step - loss: 0.1111 - accuracy: 0.9588 - auc: 0.9909 - val_loss: 0.1459 - val_accuracy: 0.9489 - val_auc: 0.9832\n",
            "Epoch 14/100\n",
            "255/255 [==============================] - 1s 3ms/step - loss: 0.1039 - accuracy: 0.9626 - auc: 0.9913 - val_loss: 0.1591 - val_accuracy: 0.9362 - val_auc: 0.9843\n",
            "Epoch 15/100\n",
            "255/255 [==============================] - 1s 3ms/step - loss: 0.0985 - accuracy: 0.9647 - auc: 0.9926 - val_loss: 0.1276 - val_accuracy: 0.9489 - val_auc: 0.9867\n",
            "Epoch 16/100\n",
            "255/255 [==============================] - 1s 3ms/step - loss: 0.0901 - accuracy: 0.9672 - auc: 0.9936 - val_loss: 0.1353 - val_accuracy: 0.9494 - val_auc: 0.9862\n",
            "Epoch 17/100\n",
            "255/255 [==============================] - 1s 3ms/step - loss: 0.0816 - accuracy: 0.9728 - auc: 0.9946 - val_loss: 0.1362 - val_accuracy: 0.9514 - val_auc: 0.9841\n",
            "Epoch 18/100\n",
            "255/255 [==============================] - 1s 3ms/step - loss: 0.0816 - accuracy: 0.9708 - auc: 0.9947 - val_loss: 0.1677 - val_accuracy: 0.9377 - val_auc: 0.9850\n",
            "Epoch 19/100\n",
            "255/255 [==============================] - 1s 3ms/step - loss: 0.0694 - accuracy: 0.9779 - auc: 0.9961 - val_loss: 0.1488 - val_accuracy: 0.9475 - val_auc: 0.9871\n",
            "Epoch 20/100\n",
            "255/255 [==============================] - 1s 3ms/step - loss: 0.0681 - accuracy: 0.9773 - auc: 0.9962 - val_loss: 0.1401 - val_accuracy: 0.9539 - val_auc: 0.9831\n"
          ]
        }
      ]
    },
    {
      "cell_type": "code",
      "source": [
        "model.evaluate(data_test, label_test)"
      ],
      "metadata": {
        "id": "jTdBJUNljHEa",
        "outputId": "c724c2d1-107e-40b6-b46f-ea45d8f68c4c",
        "colab": {
          "base_uri": "https://localhost:8080/"
        }
      },
      "execution_count": null,
      "outputs": [
        {
          "output_type": "stream",
          "name": "stdout",
          "text": [
            "137/137 [==============================] - 0s 3ms/step - loss: 0.1251 - accuracy: 0.9565 - auc: 0.9863\n"
          ]
        },
        {
          "output_type": "execute_result",
          "data": {
            "text/plain": [
              "[0.12509100139141083, 0.9564719200134277, 0.986344575881958]"
            ]
          },
          "metadata": {},
          "execution_count": 25
        }
      ]
    }
  ]
}